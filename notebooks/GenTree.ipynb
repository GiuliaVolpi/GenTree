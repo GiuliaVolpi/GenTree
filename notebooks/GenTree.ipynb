{
 "cells": [
  {
   "cell_type": "code",
   "execution_count": 1,
   "id": "72ed5973",
   "metadata": {},
   "outputs": [],
   "source": [
    "import sys\n",
    "import os\n",
    "\n",
    "module_path = os.path.abspath(os.path.join('..'))\n",
    "if module_path not in sys.path:\n",
    "    sys.path.append(module_path)\n",
    "\n",
    "import numpy as np\n",
    "from sklearn import tree\n",
    "from sklearn.metrics import f1_score, accuracy_score\n",
    "from utils import load_data\n",
    "from genetic_algorithm import fitness_a, fitness_b, fitness_c, fitness_d\n",
    "from gentree import GenTree"
   ]
  },
  {
   "cell_type": "markdown",
   "id": "51e9e2f0",
   "metadata": {},
   "source": [
    "<h1> GenTree </h1>"
   ]
  },
  {
   "cell_type": "code",
   "execution_count": 2,
   "id": "cbad8759",
   "metadata": {},
   "outputs": [],
   "source": [
    "dataset = \"iris\"\n",
    "depth = 4\n",
    "vae_pop_size = (1000, 500, 32)\n",
    "epochs = 50\n",
    "fitness = fitness_a\n",
    "omega = 0.75"
   ]
  },
  {
   "cell_type": "code",
   "execution_count": 3,
   "id": "dc13684b",
   "metadata": {},
   "outputs": [],
   "source": [
    "# Load the data\n",
    "X_train, X_val, X_test, y_train, y_val, y_test = load_data(dataset)\n",
    "\n",
    "X = [X_train, X_val]\n",
    "y = [y_train, y_val]"
   ]
  },
  {
   "cell_type": "code",
   "execution_count": 4,
   "id": "2c674fb1",
   "metadata": {},
   "outputs": [
    {
     "name": "stdout",
     "output_type": "stream",
     "text": [
      "Epoch: 32, Test set ELBO: -23.322359085083008, time elapse for current epoch: 0.0925760269165039\n",
      "gen\tnevals\tmin     \tavg   \n",
      "0  \t100   \t0.266667\t0.6775\n",
      "1  \t62    \t0.216667\t0.489 \n",
      "2  \t72    \t0.216667\t0.400333\n",
      "3  \t52    \t0.216667\t0.334333\n",
      "4  \t68    \t0.216667\t0.3155  \n",
      "5  \t52    \t0.216667\t0.280167\n",
      "6  \t61    \t0.216667\t0.2765  \n",
      "7  \t56    \t0.216667\t0.249667\n",
      "8  \t54    \t0.216667\t0.244833\n",
      "9  \t60    \t0.216667\t0.232   \n",
      "10 \t64    \t0.216667\t0.233333\n",
      "11 \t60    \t0.216667\t0.2295  \n",
      "12 \t64    \t0.216667\t0.2315  \n",
      "13 \t68    \t0.216667\t0.230167\n",
      "14 \t75    \t0.216667\t0.233167\n",
      "15 \t60    \t0.216667\t0.226333\n",
      "16 \t62    \t0.216667\t0.224833\n",
      "17 \t72    \t0.216667\t0.2295  \n",
      "18 \t58    \t0.216667\t0.224333\n",
      "19 \t66    \t0.216667\t0.222667\n",
      "20 \t50    \t0.216667\t0.222   \n",
      "21 \t66    \t0.216667\t0.223333\n",
      "22 \t44    \t0.216667\t0.220667\n",
      "23 \t68    \t0.216667\t0.220833\n",
      "24 \t62    \t0.216667\t0.218667\n",
      "25 \t80    \t0.216667\t0.219667\n",
      "26 \t52    \t0.216667\t0.216667\n",
      "27 \t58    \t0.216667\t0.216667\n",
      "28 \t58    \t0.216667\t0.218167\n",
      "29 \t74    \t0.216667\t0.217667\n",
      "30 \t64    \t0.216667\t0.216667\n",
      "31 \t72    \t0.216667\t0.216667\n",
      "32 \t60    \t0.216667\t0.217333\n",
      "33 \t74    \t0.216667\t0.216667\n",
      "34 \t62    \t0.216667\t0.219   \n",
      "35 \t62    \t0.216667\t0.218   \n",
      "36 \t62    \t0.216667\t0.218   \n",
      "37 \t64    \t0.216667\t0.217333\n",
      "38 \t54    \t0.216667\t0.218   \n",
      "39 \t66    \t0.216667\t0.218   \n",
      "40 \t64    \t0.216667\t0.216667\n",
      "41 \t54    \t0.216667\t0.216667\n",
      "42 \t64    \t0.216667\t0.216667\n",
      "43 \t64    \t0.216667\t0.216667\n",
      "44 \t62    \t0.216667\t0.216667\n",
      "45 \t44    \t0.216667\t0.216667\n",
      "46 \t56    \t0.216667\t0.216667\n",
      "47 \t46    \t0.216667\t0.216667\n",
      "48 \t42    \t0.216667\t0.216667\n",
      "49 \t60    \t0.216667\t0.216667\n",
      "50 \t52    \t0.216667\t0.216667\n"
     ]
    },
    {
     "data": {
      "text/plain": [
       "<Figure size 640x480 with 0 Axes>"
      ]
     },
     "metadata": {},
     "output_type": "display_data"
    }
   ],
   "source": [
    "gt = GenTree(dataset)\n",
    "gt.run(X=X, y=y, depth=depth, vae_pop_size=vae_pop_size, epochs=epochs, fitness=fitness, omega=omega)"
   ]
  },
  {
   "cell_type": "code",
   "execution_count": 5,
   "id": "5e8b5f72",
   "metadata": {},
   "outputs": [
    {
     "data": {
      "text/plain": [
       "[[DecisionTreeClassifier(),\n",
       "  5,\n",
       "  3,\n",
       "  2,\n",
       "  1,\n",
       "  0.9333333333333333,\n",
       "  0.9321937321937322,\n",
       "  0.21666666666666667],\n",
       " [DecisionTreeClassifier(),\n",
       "  5,\n",
       "  3,\n",
       "  2,\n",
       "  1,\n",
       "  0.9333333333333333,\n",
       "  0.9321937321937322,\n",
       "  0.21666666666666667],\n",
       " [DecisionTreeClassifier(),\n",
       "  5,\n",
       "  3,\n",
       "  2,\n",
       "  1,\n",
       "  0.9333333333333333,\n",
       "  0.9321937321937322,\n",
       "  0.21666666666666667],\n",
       " [DecisionTreeClassifier(),\n",
       "  5,\n",
       "  3,\n",
       "  2,\n",
       "  1,\n",
       "  0.9333333333333333,\n",
       "  0.9321937321937322,\n",
       "  0.21666666666666667],\n",
       " [DecisionTreeClassifier(),\n",
       "  5,\n",
       "  3,\n",
       "  2,\n",
       "  1,\n",
       "  0.9333333333333333,\n",
       "  0.9321937321937322,\n",
       "  0.21666666666666667],\n",
       " [DecisionTreeClassifier(),\n",
       "  5,\n",
       "  3,\n",
       "  2,\n",
       "  1,\n",
       "  0.9333333333333333,\n",
       "  0.9321937321937322,\n",
       "  0.21666666666666667],\n",
       " [DecisionTreeClassifier(),\n",
       "  5,\n",
       "  3,\n",
       "  2,\n",
       "  1,\n",
       "  0.9333333333333333,\n",
       "  0.9321937321937322,\n",
       "  0.21666666666666667],\n",
       " [DecisionTreeClassifier(),\n",
       "  5,\n",
       "  3,\n",
       "  2,\n",
       "  1,\n",
       "  0.9333333333333333,\n",
       "  0.9321937321937322,\n",
       "  0.21666666666666667],\n",
       " [DecisionTreeClassifier(),\n",
       "  5,\n",
       "  3,\n",
       "  2,\n",
       "  1,\n",
       "  0.9333333333333333,\n",
       "  0.9321937321937322,\n",
       "  0.21666666666666667],\n",
       " [DecisionTreeClassifier(),\n",
       "  5,\n",
       "  3,\n",
       "  2,\n",
       "  1,\n",
       "  0.9333333333333333,\n",
       "  0.9321937321937322,\n",
       "  0.21666666666666667]]"
      ]
     },
     "execution_count": 5,
     "metadata": {},
     "output_type": "execute_result"
    }
   ],
   "source": [
    "gt.hof"
   ]
  },
  {
   "cell_type": "markdown",
   "id": "cd1ac0a3",
   "metadata": {},
   "source": [
    "<h2> Best DecisionTreeClassifier found </h2>"
   ]
  },
  {
   "cell_type": "code",
   "execution_count": 6,
   "id": "2d1778a3",
   "metadata": {},
   "outputs": [
    {
     "data": {
      "text/plain": [
       "{'clf': DecisionTreeClassifier(),\n",
       " 'n_nodes': 5,\n",
       " 'n_leaves': 3,\n",
       " 'max_depth': 2,\n",
       " 'val_errors': 1,\n",
       " 'val_accuracy': 0.9333333333333333,\n",
       " 'val_f1': 0.9321937321937322,\n",
       " 'val_fitness_value': 0.21666666666666667}"
      ]
     },
     "execution_count": 6,
     "metadata": {},
     "output_type": "execute_result"
    }
   ],
   "source": [
    "gt.best_dt"
   ]
  },
  {
   "cell_type": "code",
   "execution_count": 7,
   "id": "0952552d",
   "metadata": {},
   "outputs": [
    {
     "data": {
      "text/plain": [
       "[Text(0.4, 0.8333333333333334, 'X[2] <= 0.34\\ngini = 0.625\\nsamples = 16\\nvalue = [8, 4, 4]'),\n",
       " Text(0.2, 0.5, 'gini = 0.0\\nsamples = 8\\nvalue = [8, 0, 0]'),\n",
       " Text(0.6, 0.5, 'X[3] <= 0.542\\ngini = 0.5\\nsamples = 8\\nvalue = [0, 4, 4]'),\n",
       " Text(0.4, 0.16666666666666666, 'gini = 0.0\\nsamples = 4\\nvalue = [0, 4, 0]'),\n",
       " Text(0.8, 0.16666666666666666, 'gini = 0.0\\nsamples = 4\\nvalue = [0, 0, 4]')]"
      ]
     },
     "execution_count": 7,
     "metadata": {},
     "output_type": "execute_result"
    },
    {
     "data": {
      "image/png": "[encoded data removed]",
      "text/plain": [
       "<Figure size 640x480 with 1 Axes>"
      ]
     },
     "metadata": {},
     "output_type": "display_data"
    }
   ],
   "source": [
    "tree.plot_tree(gt.best_dt[\"clf\"])"
   ]
  },
  {
   "cell_type": "code",
   "execution_count": 8,
   "id": "d85ab60a",
   "metadata": {},
   "outputs": [
    {
     "data": {
      "text/plain": [
       "0.21666666666666667"
      ]
     },
     "execution_count": 8,
     "metadata": {},
     "output_type": "execute_result"
    }
   ],
   "source": [
    "gt.best_dt[\"val_fitness_value\"]"
   ]
  },
  {
   "cell_type": "code",
   "execution_count": 9,
   "id": "cfc81fb4",
   "metadata": {},
   "outputs": [
    {
     "data": {
      "text/plain": [
       "1.0035873340000023"
      ]
     },
     "execution_count": 9,
     "metadata": {},
     "output_type": "execute_result"
    }
   ],
   "source": [
    "# Tempo necessario a generare il dataset per allenare il VAE (in secondi)\n",
    "gt.vae_pop_time"
   ]
  },
  {
   "cell_type": "code",
   "execution_count": 10,
   "id": "045de0af",
   "metadata": {},
   "outputs": [
    {
     "data": {
      "text/plain": [
       "5.078925333000001"
      ]
     },
     "execution_count": 10,
     "metadata": {},
     "output_type": "execute_result"
    }
   ],
   "source": [
    "# Tempo di esecuzione del VAE (in secondi)\n",
    "gt.vae_time"
   ]
  },
  {
   "cell_type": "code",
   "execution_count": 11,
   "id": "49f06026",
   "metadata": {},
   "outputs": [
    {
     "data": {
      "text/plain": [
       "5.460896249999998"
      ]
     },
     "execution_count": 11,
     "metadata": {},
     "output_type": "execute_result"
    }
   ],
   "source": [
    "# Tempo di esecuzione dell' algoritmo genetico (in secondi)\n",
    "gt.gp_time"
   ]
  },
  {
   "cell_type": "code",
   "execution_count": 12,
   "id": "c09951be",
   "metadata": {},
   "outputs": [],
   "source": [
    "y_pred = gt.predict(X_test)"
   ]
  },
  {
   "cell_type": "code",
   "execution_count": 13,
   "id": "b7638dc2",
   "metadata": {},
   "outputs": [
    {
     "data": {
      "text/plain": [
       "1.0"
      ]
     },
     "execution_count": 13,
     "metadata": {},
     "output_type": "execute_result"
    }
   ],
   "source": [
    "# Accuracy sul test set\n",
    "accuracy_score(y_true=y_test, y_pred=y_pred)"
   ]
  },
  {
   "cell_type": "code",
   "execution_count": 14,
   "id": "c8cf57c3",
   "metadata": {},
   "outputs": [
    {
     "data": {
      "text/plain": [
       "1.0"
      ]
     },
     "execution_count": 14,
     "metadata": {},
     "output_type": "execute_result"
    }
   ],
   "source": [
    "# f1 score sul test set\n",
    "f1_score(y_true=y_test, y_pred=y_pred, average='weighted')"
   ]
  }
 ],
 "metadata": {
  "kernelspec": {
   "display_name": "Python 3 (ipykernel)",
   "language": "python",
   "name": "python3"
  },
  "language_info": {
   "codemirror_mode": {
    "name": "ipython",
    "version": 3
   },
   "file_extension": ".py",
   "mimetype": "text/x-python",
   "name": "python",
   "nbconvert_exporter": "python",
   "pygments_lexer": "ipython3",
   "version": "3.9.12"
  }
 },
 "nbformat": 4,
 "nbformat_minor": 5
}
